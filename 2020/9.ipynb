{
 "metadata": {
  "language_info": {
   "codemirror_mode": {
    "name": "ipython",
    "version": 3
   },
   "file_extension": ".py",
   "mimetype": "text/x-python",
   "name": "python",
   "nbconvert_exporter": "python",
   "pygments_lexer": "ipython3",
   "version": "3.7.1-final"
  },
  "orig_nbformat": 2,
  "kernelspec": {
   "name": "python3",
   "display_name": "Python 3",
   "language": "python"
  }
 },
 "nbformat": 4,
 "nbformat_minor": 2,
 "cells": [
  {
   "cell_type": "code",
   "execution_count": null,
   "metadata": {},
   "outputs": [],
   "source": [
    "with open(\"9.txt\", \"r\") as f:\n",
    "    lines = f.read().splitlines()"
   ]
  },
  {
   "cell_type": "code",
   "execution_count": null,
   "metadata": {},
   "outputs": [],
   "source": [
    "class Stack:\n",
    "    def __init__(self):\n",
    "        self._preamble_size = 25\n",
    "        self._data = []\n",
    "\n",
    "    def push(self, number):\n",
    "        if len(self._data) == self._preamble_size:\n",
    "            if self.is_num_valid(number):\n",
    "                self._data.append(number)\n",
    "                self._data.pop(0)\n",
    "            else:\n",
    "                return number\n",
    "        else:\n",
    "            self._data.append(number)\n",
    "        return None\n",
    "            \n",
    "    def is_num_valid(self, number):\n",
    "        for x in self._data:\n",
    "            for y in self._data:\n",
    "                if x != y and (x + y) == number:\n",
    "                    return True\n",
    "        return False\n"
   ]
  },
  {
   "cell_type": "code",
   "execution_count": null,
   "metadata": {},
   "outputs": [],
   "source": [
    "r = 0\n",
    "stack = Stack()\n",
    "for line in lines:\n",
    "    if stack.push(int(line)) is not None:\n",
    "        r = int(line)\n",
    "        print(f\"Invalid number: {r}\")\n",
    "        break"
   ]
  },
  {
   "cell_type": "code",
   "execution_count": null,
   "metadata": {
    "tags": []
   },
   "outputs": [],
   "source": [
    "def is_match(stack, r):\n",
    "    # print(stack)\n",
    "    ssum = sum(stack)\n",
    "    if ssum == r:\n",
    "        print(f\"Min: {min(stack)}, Max: {max(stack)}, Sum: {min(stack)+max(stack)}\")\n",
    "        return True\n",
    "    return False\n",
    "\n",
    "def do_loop(lines):\n",
    "    sum_stack = []\n",
    "    for line in lines:\n",
    "        if is_match(sum_stack, r):\n",
    "            return\n",
    "\n",
    "        sum_stack.append(int(line))\n",
    "        if is_match(sum_stack, r):\n",
    "            return\n",
    "        \n",
    "        while sum(sum_stack) > r:\n",
    "            sum_stack.pop(0)\n",
    "            if is_match(sum_stack, r):\n",
    "                return\n",
    "do_loop(lines)            \n",
    "print(\"Done\")"
   ]
  }
 ]
}