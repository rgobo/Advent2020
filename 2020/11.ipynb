{
 "metadata": {
  "language_info": {
   "codemirror_mode": {
    "name": "ipython",
    "version": 3
   },
   "file_extension": ".py",
   "mimetype": "text/x-python",
   "name": "python",
   "nbconvert_exporter": "python",
   "pygments_lexer": "ipython3",
   "version": "3.7.1-final"
  },
  "orig_nbformat": 2,
  "kernelspec": {
   "name": "python3",
   "display_name": "Python 3",
   "language": "python"
  }
 },
 "nbformat": 4,
 "nbformat_minor": 2,
 "cells": [
  {
   "cell_type": "code",
   "execution_count": 95,
   "metadata": {},
   "outputs": [],
   "source": [
    "from copy import copy, deepcopy\n",
    "import numpy as np\n",
    "\n",
    "with open(\"11.txt\", \"r\") as f:\n",
    "    lines = f.read().splitlines()"
   ]
  },
  {
   "cell_type": "code",
   "execution_count": 93,
   "metadata": {},
   "outputs": [],
   "source": [
    "def isValidSeat(matrix, i, j):\n",
    "    if i >= 0 and j >= 0 and i < len(matrix) and j < len(matrix[0]) and matrix[i][j] != '.':\n",
    "        return True\n",
    "    return False\n",
    "\n",
    "def getSurroundingSeats(matrix, i, j):\n",
    "    seats = []\n",
    "    for x in range(i-1, i+2):\n",
    "        for y in range(j-1, j+2):\n",
    "            if x == i and y == j:\n",
    "                continue\n",
    "            if isValidSeat(matrix, x, y):\n",
    "                seats.append([x, y])\n",
    "    return seats\n",
    "\n",
    "def nOfOccupiedSeats(matrix, seats):\n",
    "    c = 0\n",
    "    for seat in seats:\n",
    "        if matrix[seat[0]][seat[1]] == '#':\n",
    "            c += 1\n",
    "    return c\n",
    "\n",
    "# If a seat is empty (L) and there are no occupied seats adjacent to it\n",
    "def canOccupy(matrix, i, j):\n",
    "    seats = getSurroundingSeats(matrix, i, j)\n",
    "    return nOfOccupiedSeats(matrix, seats) == 0\n",
    "\n",
    "# If a seat is occupied (#) and four or more seats adjacent to it are also occupied\n",
    "def willLeave(matrix, i, j):\n",
    "    seats = getSurroundingSeats(matrix, i, j)\n",
    "    return nOfOccupiedSeats(matrix, seats) >= 4\n",
    "\n",
    "def processChange(matrix):\n",
    "    new_matrix = deepcopy(matrix)\n",
    "    for i in range(0, len(matrix)):\n",
    "        for j in range(0, len(matrix[i])):\n",
    "            if matrix[i][j] == 'L' and canOccupy(matrix, i, j):\n",
    "                new_matrix[i][j] = '#'\n",
    "                continue\n",
    "            if matrix[i][j] == '#' and willLeave(matrix, i, j):\n",
    "                new_matrix[i][j] = 'L'\n",
    "                continue\n",
    "            new_matrix[i][j] = matrix[i][j]\n",
    "    return new_matrix\n",
    "\n",
    "def countOccupied(matrix):\n",
    "    c = 0\n",
    "    for i in matrix:\n",
    "        for j in i:\n",
    "            if j == '#':\n",
    "                c+=1\n",
    "    return c"
   ]
  },
  {
   "cell_type": "code",
   "execution_count": 94,
   "metadata": {},
   "outputs": [
    {
     "output_type": "stream",
     "name": "stdout",
     "text": [
      "DONE! Occupied seats: 2299\n"
     ]
    }
   ],
   "source": [
    "matrix = []\n",
    "for line in lines:\n",
    "    matrix.append(list(line))\n",
    "\n",
    "c = 0\n",
    "old_matrix = matrix\n",
    "while True:\n",
    "    #print(f\"\\nRound {c}\")\n",
    "    c+=1\n",
    "    #print(np.matrix(old_matrix))\n",
    "    new_matrix = processChange(old_matrix)\n",
    "    #print()\n",
    "    #print(np.matrix(new_matrix))\n",
    "\n",
    "    # compare matrices\n",
    "\n",
    "    if old_matrix == new_matrix:\n",
    "        r = countOccupied(new_matrix)\n",
    "        print(f\"DONE! Occupied seats: {r}\")\n",
    "        break\n",
    "    else:\n",
    "        old_matrix = new_matrix\n",
    "        new_matrix = None"
   ]
  }
 ]
}