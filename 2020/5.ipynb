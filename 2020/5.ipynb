{
 "metadata": {
  "language_info": {
   "codemirror_mode": {
    "name": "ipython",
    "version": 3
   },
   "file_extension": ".py",
   "mimetype": "text/x-python",
   "name": "python",
   "nbconvert_exporter": "python",
   "pygments_lexer": "ipython3",
   "version": "3.7.1-final"
  },
  "orig_nbformat": 2,
  "kernelspec": {
   "name": "python3",
   "display_name": "Python 3"
  }
 },
 "nbformat": 4,
 "nbformat_minor": 2,
 "cells": [
  {
   "cell_type": "code",
   "execution_count": null,
   "metadata": {},
   "outputs": [],
   "source": [
    "with open(\"5.txt\", \"r\") as f:\n",
    "    lines = f.read().splitlines()\n",
    "lines"
   ]
  },
  {
   "cell_type": "code",
   "execution_count": null,
   "metadata": {},
   "outputs": [],
   "source": [
    "def convertFromBinary(text):\n",
    "    r = text.replace('F', '0').replace('B', '1').replace('R', '1').replace('L', '0')\n",
    "    return int(r, 2)\n"
   ]
  },
  {
   "cell_type": "code",
   "execution_count": null,
   "metadata": {
    "tags": []
   },
   "outputs": [],
   "source": [
    "max = 0\n",
    "ids = []\n",
    "for line in lines:\n",
    "    row = convertFromBinary(line[:7])\n",
    "    col = convertFromBinary(line[7:])\n",
    "    id = row*8+col\n",
    "    if id > max:\n",
    "        max = id\n",
    "    #print(f\"Row:{row}, Col:{col}, ID:{id}\")\n",
    "    ids.append(id)\n",
    "print(f\"Max:{max}\")\n",
    "\n",
    "ids.sort()\n",
    "for i in range(len(ids)-1):\n",
    "    curr = ids[i]\n",
    "    next = ids[i+1]\n",
    "    if curr == next-2:\n",
    "        print(f\"Curr:{curr}, next:{next}\")\n",
    "\n"
   ]
  },
  {
   "cell_type": "code",
   "execution_count": null,
   "metadata": {},
   "outputs": [],
   "source": [
    "convertFromBinary(lines[0][:7])"
   ]
  },
  {
   "cell_type": "code",
   "execution_count": null,
   "metadata": {},
   "outputs": [],
   "source": [
    "convertFromBinary(lines[0][7:])"
   ]
  },
  {
   "cell_type": "code",
   "execution_count": null,
   "metadata": {},
   "outputs": [],
   "source": [
    "min = 0\n",
    "max = 127\n",
    "line = lines[0]\n",
    "print(f\"{min}-{max}\")\n",
    "for i in range(7):\n",
    "    ch = line[i]\n",
    "    if ch == 'F':\n",
    "        max = max - int((max - min) / 2) - 1\n",
    "    elif ch == 'B':\n",
    "        min = min + int((max - min) / 2) + 1\n",
    "    print(f\"{min}-{max}\")\n",
    "\n",
    "for i in range(3):\n",
    "    ch = line[7+i]\n",
    "    if (ch)\n",
    "\n",
    "    FBFBBFFRLR\n",
    "    0101100\n"
   ]
  },
  {
   "cell_type": "code",
   "execution_count": null,
   "metadata": {},
   "outputs": [],
   "source": [
    "decimal = int('0101', 2)\n",
    "decimal"
   ]
  }
 ]
}