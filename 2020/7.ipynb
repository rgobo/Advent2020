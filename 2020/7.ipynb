{
 "metadata": {
  "language_info": {
   "codemirror_mode": {
    "name": "ipython",
    "version": 3
   },
   "file_extension": ".py",
   "mimetype": "text/x-python",
   "name": "python",
   "nbconvert_exporter": "python",
   "pygments_lexer": "ipython3",
   "version": "3.7.1-final"
  },
  "orig_nbformat": 2,
  "kernelspec": {
   "name": "python3",
   "display_name": "Python 3",
   "language": "python"
  }
 },
 "nbformat": 4,
 "nbformat_minor": 2,
 "cells": [
  {
   "cell_type": "code",
   "execution_count": null,
   "metadata": {},
   "outputs": [],
   "source": [
    "with open(\"7.txt\", \"r\") as f:\n",
    "    lines = f.read().splitlines()\n",
    "lines"
   ]
  },
  {
   "cell_type": "code",
   "execution_count": null,
   "metadata": {},
   "outputs": [],
   "source": [
    "class Bag:\n",
    "    def __init__(self, text):\n",
    "        split = text.split(\" contain \")\n",
    "        self.name = \" \".join(split[0].split(\" \")[:-1])\n",
    "\n",
    "        self.canContain = {}\n",
    "        if split[1] == \"no other bags.\":\n",
    "            return\n",
    "        split = split[1].split(\", \")\n",
    "        for c in split:\n",
    "            sc = c.split(\" \")\n",
    "            k = \" \".join(sc[1:-1])\n",
    "            v = sc[0]\n",
    "            #print(f\"key:{k}, val:{v}\")\n",
    "            self.canContain[k] = v"
   ]
  },
  {
   "cell_type": "code",
   "execution_count": null,
   "metadata": {},
   "outputs": [],
   "source": [
    "def canContainBag(allBags, bag, bagName):\n",
    "    if len(bag.canContain) == 0:\n",
    "        return False\n",
    "    if bagName in bag.canContain:\n",
    "        return True\n",
    "    for k,v in bag.canContain.items():\n",
    "        bag = allBags[k]\n",
    "        if canContainBag(allBags, bag, bagName):\n",
    "            return True\n",
    "    return False"
   ]
  },
  {
   "cell_type": "code",
   "execution_count": null,
   "metadata": {},
   "outputs": [],
   "source": [
    "def countHowManyCanContain(allBags, bag):\n",
    "    if len(bag.canContain) == 0:\n",
    "        return 0\n",
    "    c = 0\n",
    "    for k,v in bag.canContain.items():\n",
    "        nextBag = allBags[k]\n",
    "        c = int(c) + (int(v) * (1 + int(countHowManyCanContain(allBags, nextBag))))\n",
    "    return c"
   ]
  },
  {
   "cell_type": "code",
   "execution_count": null,
   "metadata": {
    "tags": []
   },
   "outputs": [],
   "source": [
    "allBags = {}\n",
    "for line in lines:\n",
    "    b = Bag(line)\n",
    "    allBags[b.name] = b\n",
    "    #print(f\"Key:{b.name}, canContain: {b.canContain}\")"
   ]
  },
  {
   "cell_type": "code",
   "execution_count": null,
   "metadata": {},
   "outputs": [],
   "source": [
    "myBag = \"shiny gold\"\n",
    "\n",
    "c = 0\n",
    "for name,bag in allBags.items():\n",
    "    if canContainBag(allBags, bag, myBag):\n",
    "        c += 1\n",
    "print(f\"res:{c}\")"
   ]
  },
  {
   "cell_type": "code",
   "execution_count": null,
   "metadata": {},
   "outputs": [],
   "source": [
    "myBag = allBags[\"shiny gold\"]\n",
    "c = countHowManyCanContain(allBags, myBag)\n",
    "c"
   ]
  }
 ]
}