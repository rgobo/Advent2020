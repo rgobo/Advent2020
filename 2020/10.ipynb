{
 "metadata": {
  "language_info": {
   "codemirror_mode": {
    "name": "ipython",
    "version": 3
   },
   "file_extension": ".py",
   "mimetype": "text/x-python",
   "name": "python",
   "nbconvert_exporter": "python",
   "pygments_lexer": "ipython3",
   "version": "3.7.1-final"
  },
  "orig_nbformat": 2,
  "kernelspec": {
   "name": "python3",
   "display_name": "Python 3",
   "language": "python"
  }
 },
 "nbformat": 4,
 "nbformat_minor": 2,
 "cells": [
  {
   "cell_type": "code",
   "execution_count": 171,
   "metadata": {},
   "outputs": [
    {
     "output_type": "execute_result",
     "data": {
      "text/plain": [
       "[1,\n",
       " 2,\n",
       " 3,\n",
       " 4,\n",
       " 7,\n",
       " 8,\n",
       " 9,\n",
       " 10,\n",
       " 11,\n",
       " 14,\n",
       " 17,\n",
       " 18,\n",
       " 19,\n",
       " 20,\n",
       " 23,\n",
       " 24,\n",
       " 25,\n",
       " 28,\n",
       " 31,\n",
       " 32,\n",
       " 33,\n",
       " 34,\n",
       " 35,\n",
       " 38,\n",
       " 39,\n",
       " 42,\n",
       " 45,\n",
       " 46,\n",
       " 47,\n",
       " 48,\n",
       " 49]"
      ]
     },
     "metadata": {},
     "execution_count": 171
    }
   ],
   "source": [
    "with open(\"10.txt\", \"r\") as f:\n",
    "    lines = f.read().splitlines()\n",
    "adapters = [int(i) for i in lines]\n",
    "adapters.sort()\n",
    "# adapters = adapters[:5]\n",
    "adapters"
   ]
  },
  {
   "cell_type": "code",
   "execution_count": null,
   "metadata": {},
   "outputs": [],
   "source": [
    "differences = {}\n",
    "current = 0\n",
    "\n",
    "for adapter in adapters:\n",
    "    diff = adapter - current\n",
    "    if diff in differences:\n",
    "        differences[diff] += 1\n",
    "    else:\n",
    "        differences[diff] = 1\n",
    "    current = adapter\n",
    "\n",
    "print(differences)\n",
    "print(f\"Result: {differences[1] * differences[3]}\")\n"
   ]
  },
  {
   "cell_type": "code",
   "execution_count": null,
   "metadata": {},
   "outputs": [],
   "source": [
    "# too innefficient\n",
    "def rec(combinations, adapters, current, history):\n",
    "    history.append(current)\n",
    "    if current == adapters[-1]:\n",
    "        print(history)\n",
    "        return 1\n",
    "\n",
    "    nc = 0\n",
    "    if (current+1) in adapters:\n",
    "        nc += rec(combinations, adapters, current+1, list(history))\n",
    "    if (current+2) in adapters:\n",
    "        nc += rec(combinations, adapters, current+2, list(history))\n",
    "    if (current+3) in adapters:\n",
    "        nc += rec(combinations, adapters, current+3, list(history))\n",
    "    \n",
    "    return nc\n"
   ]
  },
  {
   "cell_type": "code",
   "execution_count": null,
   "metadata": {},
   "outputs": [],
   "source": [
    "def revRec(combinations, adapters, current, history):\n",
    "    history.append(current)\n",
    "    if current == adapters[0]:\n",
    "        #print(history)\n",
    "        return 1\n",
    "\n",
    "    nc = 0\n",
    "    if (current-1) in adapters:\n",
    "        nc += revRec(combinations, adapters, current-1, list(history))\n",
    "    if (current-2) in adapters:\n",
    "        nc += revRec(combinations, adapters, current-2, list(history))\n",
    "    if (current-3) in adapters:\n",
    "        nc += revRec(combinations, adapters, current-3, list(history))\n",
    "    \n",
    "    return nc\n"
   ]
  },
  {
   "cell_type": "code",
   "execution_count": 137,
   "metadata": {
    "tags": []
   },
   "outputs": [
    {
     "output_type": "stream",
     "name": "stdout",
     "text": [
      "[0, 1, 2, 3, 4, 7, 10]\n[0, 1, 2, 4, 7, 10]\n[0, 1, 3, 4, 7, 10]\n[0, 1, 4, 7, 10]\n[0, 2, 3, 4, 7, 10]\n[0, 2, 4, 7, 10]\n[0, 3, 4, 7, 10]\n7\n"
     ]
    }
   ],
   "source": [
    "adapters.append(adapters[-1] + 3)\n",
    "r = rec(0, adapters, 0, [])\n",
    "#adapters.insert(0, 0)\n",
    "#r = revRec(0, adapters, adapters[-1], [])\n",
    "print(r)"
   ]
  },
  {
   "cell_type": "code",
   "execution_count": null,
   "metadata": {},
   "outputs": [],
   "source": [
    "def determine_valid(adapter_info, adapters, adapter):\n",
    "    adapter_info[adapter] = { \"valid\": True }\n",
    "    if (adapter-1) in adapters:\n",
    "        determine_valid(adapter_info, adapters, adapter-1)\n",
    "    if (adapter-2) in adapters:\n",
    "        determine_valid(adapter_info, adapters, adapter-2)\n",
    "    if (adapter-3) in adapters:\n",
    "        determine_valid(adapter_info, adapters, adapter-3)"
   ]
  },
  {
   "cell_type": "code",
   "execution_count": null,
   "metadata": {},
   "outputs": [],
   "source": [
    "#adapters.append(adapters[-1] + 3)\n",
    "\n",
    "adapter_info = {}\n",
    "determine_valid(adapter_info, adapters, adapters[-1])\n",
    "print(adapter_info)"
   ]
  },
  {
   "cell_type": "code",
   "execution_count": 164,
   "metadata": {},
   "outputs": [],
   "source": [
    "#adapters.append(adapters[-1] + 3)\n",
    "adapters.insert(0,0)"
   ]
  },
  {
   "cell_type": "code",
   "execution_count": 172,
   "metadata": {},
   "outputs": [
    {
     "output_type": "stream",
     "name": "stdout",
     "text": [
      "[49, 48, 47, 46, 45, 42, 39, 38, 35, 34, 33, 32, 31, 28, 25, 24, 23, 20, 19, 18, 17, 14, 11, 10, 9, 8, 7, 4, 3, 2, 1]\n{1: 3, 2: 2, 3: 1, 4: 1, 7: 3, 8: 3, 9: 2, 10: 1, 11: 1, 14: 1, 17: 3, 18: 2, 19: 1, 20: 1, 23: 2, 24: 1, 25: 1, 28: 1, 31: 3, 32: 3, 33: 2, 34: 1, 35: 1, 38: 1, 39: 1, 42: 1, 45: 3, 46: 3, 47: 2, 48: 1, 49: 0}\n"
     ]
    }
   ],
   "source": [
    "valid_adapters = adapters[-1:]\n",
    "for adapter in reversed(adapters):\n",
    "    if adapter in valid_adapters:\n",
    "        continue\n",
    "    if (adapter+1) in valid_adapters:\n",
    "        valid_adapters.append(adapter)\n",
    "        continue\n",
    "    if (adapter+2) in valid_adapters:\n",
    "        valid_adapters.append(adapter)\n",
    "        continue\n",
    "    if (adapter+3) in valid_adapters:\n",
    "        valid_adapters.append(adapter)\n",
    "        continue\n",
    "print(valid_adapters)\n",
    "\n",
    "branches = {}\n",
    "for adapter in adapters:\n",
    "    c = 0\n",
    "    if (adapter+1) in valid_adapters:\n",
    "        c+=1\n",
    "    if (adapter+2) in valid_adapters:\n",
    "        c+=1\n",
    "    if (adapter+3) in valid_adapters:\n",
    "        c+=1\n",
    "    branches[adapter] = c\n",
    "print(branches)"
   ]
  },
  {
   "cell_type": "code",
   "execution_count": 193,
   "metadata": {},
   "outputs": [
    {
     "output_type": "stream",
     "name": "stdout",
     "text": [
      "419904\n"
     ]
    }
   ],
   "source": [
    "total = 1\n",
    "for adapter in adapters:\n",
    "    i = branches[adapter]\n",
    "    if i > 1:\n",
    "        total *= i\n",
    "print(total)"
   ]
  },
  {
   "cell_type": "code",
   "execution_count": 185,
   "metadata": {},
   "outputs": [
    {
     "output_type": "execute_result",
     "data": {
      "text/plain": [
       "16384"
      ]
     },
     "metadata": {},
     "execution_count": 185
    }
   ],
   "source": [
    "total = 1\n",
    "for k,v in branches.items():\n",
    "    if v == 2:\n",
    "        total *= 2\n",
    "    if v == 3:\n",
    "        total *= 2 \n",
    "total"
   ]
  }
 ]
}