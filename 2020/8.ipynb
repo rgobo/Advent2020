{
 "metadata": {
  "language_info": {
   "codemirror_mode": {
    "name": "ipython",
    "version": 3
   },
   "file_extension": ".py",
   "mimetype": "text/x-python",
   "name": "python",
   "nbconvert_exporter": "python",
   "pygments_lexer": "ipython3",
   "version": "3.7.1-final"
  },
  "orig_nbformat": 2,
  "kernelspec": {
   "name": "python3",
   "display_name": "Python 3",
   "language": "python"
  }
 },
 "nbformat": 4,
 "nbformat_minor": 2,
 "cells": [
  {
   "cell_type": "code",
   "execution_count": null,
   "metadata": {},
   "outputs": [],
   "source": [
    "with open(\"8.txt\", \"r\") as f:\n",
    "    lines = f.read().splitlines()"
   ]
  },
  {
   "cell_type": "code",
   "execution_count": null,
   "metadata": {},
   "outputs": [],
   "source": [
    "class Emulator:\n",
    "    def __init__(self, commands):\n",
    "        self.accumulator = 0\n",
    "        self.commands = commands\n",
    "        self.visited = []\n",
    "\n",
    "    def start(self):\n",
    "        self.executeLine(0)\n",
    "        print(f\"Finished with acc: {self.accumulator}\")\n",
    "        \n",
    "    def executeLine(self, idx):\n",
    "        if idx in self.visited:\n",
    "            return\n",
    "        else:\n",
    "            self.visited.append(idx)\n",
    "\n",
    "        if idx > len(self.commands):\n",
    "            return\n",
    "\n",
    "        #print(f\"cmd:{self.commands[idx]}\")\n",
    "        command = self.commands[idx].split(\" \")\n",
    "        cmd = command[0]\n",
    "        param = command[1]\n",
    "        self.executeAction(cmd, param, idx)\n",
    "\n",
    "    def executeAction(self, cmd, param, idx):\n",
    "        if cmd == \"nop\":\n",
    "            self.nop(param, idx)\n",
    "        if cmd == \"acc\":\n",
    "            self.acc(param, idx)\n",
    "        if cmd == \"jmp\":\n",
    "            self.jmp(param, idx)\n",
    "    \n",
    "    def nop(self, param, idx):\n",
    "        #print(f\"nop: {param}, idx: {idx}\")\n",
    "        self.executeLine(idx+1)\n",
    "\n",
    "    def acc(self, param, idx):\n",
    "        #print(f\"acc: {param}, idx: {idx}\")\n",
    "        self.accumulator += int(param)\n",
    "        self.executeLine(idx+1)\n",
    "\n",
    "    def jmp(self, param, idx):\n",
    "        #print(f\"jmp: {param}, idx: {idx}\")\n",
    "        self.executeLine(idx+int(param))"
   ]
  },
  {
   "cell_type": "code",
   "execution_count": null,
   "metadata": {},
   "outputs": [],
   "source": [
    "em = Emulator(list(lines))\n",
    "em.start()\n"
   ]
  },
  {
   "cell_type": "code",
   "execution_count": 56,
   "metadata": {},
   "outputs": [],
   "source": [
    "def Recursion(commands, visited, accumulator, idx):\n",
    "    if idx in visited:\n",
    "        return accumulator\n",
    "    else:\n",
    "        visited.append(idx)\n",
    "    \n",
    "    if idx > len(commands):\n",
    "        return accumulator\n",
    "\n",
    "    cmd = commands[idx].split(\" \")\n",
    "    if cmd[0] == \"nop\":\n",
    "        return Recursion(commands, visited, accumulator, idx+1)\n",
    "    if cmd[0] == \"acc\":\n",
    "        accumulator += int(cmd[1])\n",
    "        return Recursion(commands, visited, accumulator, idx+1)\n",
    "    if cmd[0] == \"jmp\":\n",
    "        return Recursion(commands, visited, accumulator, idx+int(cmd[1]))\n",
    "    "
   ]
  },
  {
   "cell_type": "code",
   "execution_count": 57,
   "metadata": {},
   "outputs": [
    {
     "output_type": "stream",
     "name": "stdout",
     "text": [
      "1489\n"
     ]
    }
   ],
   "source": [
    "acc = Recursion(list(lines), [], 0, 0)\n",
    "print(acc)"
   ]
  },
  {
   "cell_type": "code",
   "execution_count": 58,
   "metadata": {},
   "outputs": [],
   "source": [
    "def Recursion2(commands, visited, accumulator, idx, hasChanged):\n",
    "    if idx in visited:\n",
    "        return None\n",
    "    else:\n",
    "        visited.append(idx)\n",
    "    \n",
    "    if idx >= len(commands):\n",
    "        return accumulator\n",
    "\n",
    "    cmd = commands[idx].split(\" \")\n",
    "    if cmd[0] == \"nop\":\n",
    "        r = Recursion2(commands, visited, accumulator, idx+1, hasChanged)\n",
    "        if r is not None:\n",
    "            return r\n",
    "        elif hasChanged == False:\n",
    "            return Recursion2(commands, visited, accumulator, idx+int(cmd[1]), True)\n",
    "    if cmd[0] == \"acc\":\n",
    "        accumulator += int(cmd[1])\n",
    "        return Recursion2(commands, visited, accumulator, idx+1, hasChanged)\n",
    "    if cmd[0] == \"jmp\":\n",
    "        r = Recursion2(commands, visited, accumulator, idx+int(cmd[1]), hasChanged)\n",
    "        if r is not None:\n",
    "            return r\n",
    "        elif hasChanged == False:\n",
    "            return Recursion2(commands, visited, accumulator, idx+1, True)\n",
    "\n",
    "    "
   ]
  },
  {
   "cell_type": "code",
   "execution_count": 59,
   "metadata": {},
   "outputs": [
    {
     "output_type": "stream",
     "name": "stdout",
     "text": [
      "1539\n"
     ]
    }
   ],
   "source": [
    "acc = Recursion2(list(lines), [], 0, 0, False)\n",
    "print(acc)"
   ]
  }
 ]
}