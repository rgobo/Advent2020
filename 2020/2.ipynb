{
 "metadata": {
  "language_info": {
   "codemirror_mode": {
    "name": "ipython",
    "version": 3
   },
   "file_extension": ".py",
   "mimetype": "text/x-python",
   "name": "python",
   "nbconvert_exporter": "python",
   "pygments_lexer": "ipython3",
   "version": "3.7.1-final"
  },
  "orig_nbformat": 2,
  "kernelspec": {
   "name": "python3",
   "display_name": "Python 3"
  }
 },
 "nbformat": 4,
 "nbformat_minor": 2,
 "cells": [
  {
   "cell_type": "code",
   "execution_count": null,
   "metadata": {},
   "outputs": [],
   "source": [
    "import string"
   ]
  },
  {
   "cell_type": "code",
   "execution_count": null,
   "metadata": {},
   "outputs": [],
   "source": [
    "f = open(\"2.txt\", \"r\")\n",
    "lines = f.readlines()\n",
    "f.close()\n",
    "lines"
   ]
  },
  {
   "cell_type": "code",
   "execution_count": null,
   "metadata": {},
   "outputs": [],
   "source": [
    "split = lines[0].strip().split(\" \")\n",
    "numRange = split[0].split(\"-\")\n",
    "letter = split[1][0]\n",
    "txt = split[2]\n",
    "print(f\"{numRange},{letter},{txt}\")"
   ]
  },
  {
   "cell_type": "code",
   "execution_count": null,
   "metadata": {},
   "outputs": [],
   "source": [
    "cr = 0\n",
    "for line in lines:\n",
    "    split = line.strip().split(\" \")\n",
    "    minN = int(split[0].split(\"-\")[0])\n",
    "    maxN = int(split[0].split(\"-\")[1])\n",
    "    letter = split[1][0]\n",
    "    txt = split[2]\n",
    "\n",
    "    c = 0\n",
    "    for l in txt:\n",
    "        if l ==  letter:\n",
    "            c += 1\n",
    "    if int(c) >= minN and int(c) <= maxN:\n",
    "        cr += 1\n",
    "print(cr)        \n"
   ]
  },
  {
   "cell_type": "code",
   "execution_count": null,
   "metadata": {
    "tags": []
   },
   "outputs": [],
   "source": [
    "cr = 0\n",
    "for line in lines:\n",
    "    split = line.strip().split(\" \")\n",
    "    minN = int(split[0].split(\"-\")[0]) - 1\n",
    "    maxN = int(split[0].split(\"-\")[1]) - 1\n",
    "    letter = split[1][0]\n",
    "    txt = split[2]\n",
    "\n",
    "    c = 0\n",
    "    if len(txt) > minN and txt[minN] == letter:\n",
    "        c += 1\n",
    "    if len(txt) > maxN and txt[maxN] == letter:\n",
    "        c += 1\n",
    "    if (c == 1):\n",
    "        cr += 1\n",
    "        #print(f\"text: '{txt}', min: '{minN}', max: '{maxN}', letter: '{letter}'\")\n",
    "    \n",
    "print(cr)        \n"
   ]
  }
 ]
}