{
 "metadata": {
  "language_info": {
   "codemirror_mode": {
    "name": "ipython",
    "version": 3
   },
   "file_extension": ".py",
   "mimetype": "text/x-python",
   "name": "python",
   "nbconvert_exporter": "python",
   "pygments_lexer": "ipython3",
   "version": "3.7.1-final"
  },
  "orig_nbformat": 2,
  "kernelspec": {
   "name": "python3",
   "display_name": "Python 3"
  }
 },
 "nbformat": 4,
 "nbformat_minor": 2,
 "cells": [
  {
   "cell_type": "code",
   "execution_count": 139,
   "metadata": {},
   "outputs": [
    {
     "output_type": "execute_result",
     "data": {
      "text/plain": [
       "['eyr:2029 pid:157374862',\n",
       " 'byr:1991 ecl:amb hcl:#a97842 hgt:178cm',\n",
       " '',\n",
       " 'byr:1962 pid:547578491 eyr:2028 ecl:hzl hgt:65in iyr:2013 hcl:#623a2f',\n",
       " '',\n",
       " 'hgt:71in eyr:2037',\n",
       " 'ecl:#8e276e hcl:z iyr:2019',\n",
       " 'byr:2022 pid:157cm',\n",
       " '',\n",
       " 'hcl:#733820 hgt:175 eyr:2028 iyr:2011',\n",
       " 'pid:87786389',\n",
       " 'ecl:hzl byr:1980']"
      ]
     },
     "metadata": {},
     "execution_count": 139
    }
   ],
   "source": [
    "import re\n",
    "\n",
    "with open(\"4.txt\", \"r\") as f:\n",
    "    lines = f.read().splitlines() \n",
    "lines.append('')\n",
    "lines[0:12]"
   ]
  },
  {
   "cell_type": "code",
   "execution_count": 140,
   "metadata": {},
   "outputs": [],
   "source": [
    "class Password:\n",
    "    def __init__(self, lines):\n",
    "        self.dict = {}\n",
    "        self.keys = [\"byr\",\"iyr\",\"eyr\",\"hgt\",\"hcl\",\"ecl\",\"pid\"] # \"cid\" optional\n",
    "        for line in lines:\n",
    "            split = line.split(' ')\n",
    "            for sp in split:\n",
    "                kv = sp.split(':')\n",
    "                key = kv[0]\n",
    "                val = kv[1]\n",
    "                self.dict[key] = val\n",
    "\n",
    "    def isInRange(self, val, min, max):\n",
    "        if int(val) < min or int(val) > max:\n",
    "            return False\n",
    "        return True\n",
    "\n",
    "    def isValid(self):\n",
    "        for key in self.keys:\n",
    "            if key not in self.dict:\n",
    "                return False\n",
    "        \n",
    "        if not self.isInRange(self.dict[\"byr\"], 1920, 2002):\n",
    "            return False\n",
    "        if not self.isInRange(self.dict[\"iyr\"], 2010, 2020):\n",
    "            return False\n",
    "        if not self.isInRange(self.dict[\"eyr\"], 2020, 2030):\n",
    "            return False\n",
    "        \n",
    "        hgt = self.dict[\"hgt\"]\n",
    "        if hgt[-2:] == \"cm\":\n",
    "            if not self.isInRange(hgt[:-2], 150, 193):\n",
    "                return False\n",
    "        elif hgt[-2:] == \"in\":\n",
    "            if not self.isInRange(hgt[:-2], 59, 76):\n",
    "                return False\n",
    "        else:\n",
    "            return False\n",
    "\n",
    "        hcl = self.dict[\"hcl\"]\n",
    "        x = re.search(\"#[0-9a-f]{6}\", hcl)\n",
    "        if not x:\n",
    "            return False\n",
    "\n",
    "        ecl = self.dict[\"ecl\"]\n",
    "        if ecl not in [\"amb\", \"blu\", \"brn\", \"gry\", \"grn\", \"hzl\", \"oth\"]:\n",
    "            return False\n",
    "        \n",
    "        pid = self.dict[\"pid\"]\n",
    "        x = re.search(\"[0-9]{9}\", pid)\n",
    "        if not x or len(pid) > 9:\n",
    "            return False\n",
    "\n",
    "        return True\n"
   ]
  },
  {
   "cell_type": "code",
   "execution_count": 141,
   "metadata": {},
   "outputs": [
    {
     "output_type": "stream",
     "name": "stdout",
     "text": [
      "Result:133\n"
     ]
    }
   ],
   "source": [
    "current = []\n",
    "nOfValid = 0\n",
    "for line in lines:\n",
    "    if len(line) == 0:\n",
    "        p = Password(current)\n",
    "        current = []\n",
    "        if p.isValid():\n",
    "            nOfValid += 1\n",
    "        continue\n",
    "    current.append(line)\n",
    "print(f\"Result:{nOfValid}\")"
   ]
  },
  {
   "cell_type": "code",
   "execution_count": 142,
   "metadata": {},
   "outputs": [
    {
     "output_type": "execute_result",
     "data": {
      "text/plain": [
       "False"
      ]
     },
     "metadata": {},
     "execution_count": 142
    }
   ],
   "source": [
    "t = Password(lines[0:2])\n",
    "t.isValid()"
   ]
  },
  {
   "cell_type": "code",
   "execution_count": 143,
   "metadata": {},
   "outputs": [
    {
     "output_type": "execute_result",
     "data": {
      "text/plain": [
       "'test'"
      ]
     },
     "metadata": {},
     "execution_count": 143
    }
   ],
   "source": [
    "\"test01\"[:-2]"
   ]
  },
  {
   "cell_type": "code",
   "execution_count": 144,
   "metadata": {},
   "outputs": [
    {
     "output_type": "stream",
     "name": "stdout",
     "text": [
      "Yes\n"
     ]
    }
   ],
   "source": [
    "txt = \"The rain in Spain\"\n",
    "x = re.search(\"^The.*Spain$\", txt) \n",
    "print (\"Yes\" if x else \"No\")"
   ]
  },
  {
   "cell_type": "code",
   "execution_count": 145,
   "metadata": {},
   "outputs": [
    {
     "output_type": "stream",
     "name": "stdout",
     "text": [
      "Yes\n"
     ]
    }
   ],
   "source": [
    "txt = \"#623a2f\"\n",
    "x = re.search(\"#[0-9a-f]{6}\", txt)\n",
    "print (\"No\" if not x else \"Yes\")"
   ]
  }
 ]
}