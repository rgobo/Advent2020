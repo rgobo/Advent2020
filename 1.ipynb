{
 "cells": [
  {
   "cell_type": "code",
   "execution_count": null,
   "metadata": {},
   "outputs": [],
   "source": [
    "f = open(\"1.txt\", \"r\")\n",
    "numbers = set()\n",
    "for line in f:\n",
    "    numbers.add(int(line))\n",
    "f.close()\n",
    "numbers"
   ]
  },
  {
   "cell_type": "code",
   "execution_count": null,
   "metadata": {},
   "outputs": [],
   "source": [
    "numbers"
   ]
  },
  {
   "cell_type": "code",
   "execution_count": null,
   "metadata": {},
   "outputs": [],
   "source": [
    "for n in numbers:\n",
    "    for n2 in numbers:\n",
    "        if (n == n2):\n",
    "            continue\n",
    "        if (n + n2) == 2020:\n",
    "            print(f\"Result: {n},{n2} => {n*n2}\")"
   ]
  },
  {
   "cell_type": "code",
   "execution_count": null,
   "metadata": {},
   "outputs": [],
   "source": [
    "for n in numbers:\n",
    "    for n2 in numbers:\n",
    "        for n3 in numbers:\n",
    "            if (n == n2 or n == n3 or n2 == n3):\n",
    "                continue\n",
    "            if (n + n2 + n3) == 2020:\n",
    "                print(f\"Result: {n},{n2},{n3} => {n*n2*n3}\")"
   ]
  }
 ],
 "metadata": {
  "kernelspec": {
   "display_name": "Python 3",
   "language": "python",
   "name": "python3"
  },
  "language_info": {
   "codemirror_mode": {
    "name": "ipython",
    "version": 3
   },
   "file_extension": ".py",
   "mimetype": "text/x-python",
   "name": "python",
   "nbconvert_exporter": "python",
   "pygments_lexer": "ipython3",
   "version": "3.7.1-final"
  }
 },
 "nbformat": 4,
 "nbformat_minor": 4
}