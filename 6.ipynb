{
 "metadata": {
  "language_info": {
   "codemirror_mode": {
    "name": "ipython",
    "version": 3
   },
   "file_extension": ".py",
   "mimetype": "text/x-python",
   "name": "python",
   "nbconvert_exporter": "python",
   "pygments_lexer": "ipython3",
   "version": "3.7.1-final"
  },
  "orig_nbformat": 2,
  "kernelspec": {
   "name": "python3",
   "display_name": "Python 3"
  }
 },
 "nbformat": 4,
 "nbformat_minor": 2,
 "cells": [
  {
   "cell_type": "code",
   "execution_count": null,
   "metadata": {},
   "outputs": [],
   "source": [
    "with open(\"6.txt\", \"r\") as f:\n",
    "    lines = f.read().splitlines()\n",
    "lines.append('')\n",
    "lines"
   ]
  },
  {
   "cell_type": "code",
   "execution_count": 33,
   "metadata": {},
   "outputs": [
    {
     "output_type": "stream",
     "name": "stdout",
     "text": [
      "6878\n"
     ]
    }
   ],
   "source": [
    "r = 0\n",
    "group = set()\n",
    "for line in lines:\n",
    "    if len(line) > 0:\n",
    "        group.update(list(line))\n",
    "        continue\n",
    "    #print(f\"{group} => {len(group)}\")\n",
    "    r += len(group)\n",
    "    group = set()\n",
    "print(r)"
   ]
  },
  {
   "cell_type": "code",
   "execution_count": 32,
   "metadata": {
    "tags": []
   },
   "outputs": [
    {
     "output_type": "stream",
     "name": "stdout",
     "text": [
      "3464\n"
     ]
    }
   ],
   "source": [
    "r = 0\n",
    "nOfPpl = 0\n",
    "group = {}\n",
    "for line in lines:\n",
    "    if len(line) > 0:\n",
    "        nOfPpl += 1\n",
    "        for char in list(line):\n",
    "            if char not in group:\n",
    "                group[char] = 1\n",
    "            else:\n",
    "                group[char] += 1\n",
    "        continue\n",
    "    \n",
    "    for k,v in group.items():\n",
    "        if v == nOfPpl:\n",
    "            r += 1\n",
    "    #print(f\"{group} => {nOfPpl} => {r}\\n\")\n",
    "\n",
    "    nOfPpl = 0\n",
    "    group = {}\n",
    "print(r)"
   ]
  },
  {
   "cell_type": "code",
   "execution_count": null,
   "metadata": {},
   "outputs": [],
   "source": [
    "list('test')"
   ]
  }
 ]
}